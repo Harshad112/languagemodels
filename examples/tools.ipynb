{
 "cells": [
  {
   "cell_type": "markdown",
   "id": "cdc28c56-5631-4abf-b485-0f226962165f",
   "metadata": {},
   "source": [
    "# Tool Usage\n",
    "\n",
    "Language models are best suited for generating natural language. They don't have access to external knowledge, and may not be well suited to for computational tasks. However, we can overcome some of these limits by augmenting models with tools.\n",
    "\n",
    "## Prompting for Tool Use\n",
    "\n",
    "The first step is to prompt the model in a way that allows it make use of tools. We'll do this by providing few-shot examples of computations inside backticks. We can then replace these computations with their results."
   ]
  },
  {
   "cell_type": "code",
   "execution_count": 4,
   "id": "85288258-3f83-46cd-9f96-d7e6a940be33",
   "metadata": {},
   "outputs": [],
   "source": [
    "import languagemodels as lm\n",
    "import re"
   ]
  },
  {
   "cell_type": "code",
   "execution_count": 69,
   "id": "2c756fa4-1def-4c81-b86e-de2d2103566a",
   "metadata": {
    "tags": []
   },
   "outputs": [
    {
     "data": {
      "text/plain": [
       "'28 + 51 = `28+51` cars.'"
      ]
     },
     "execution_count": 69,
     "metadata": {},
     "output_type": "execute_result"
    }
   ],
   "source": [
    "def generate_answer_for_calculator(question):\n",
    "    return lm.complete(f\"\"\"\n",
    "Assistant is a helpful AI.\n",
    "The assistant may request a calculator if needed.\n",
    "\n",
    "User: What's 3+5?\n",
    "Assistant: The result is 3 + 5 = `3+5`.\n",
    "\n",
    "User: If I have 31 apples and get 45 more, how many apples do I have?\n",
    "Assistant: You have 31 + 45 = `31+45` apples.\n",
    "\n",
    "User: {question}\n",
    "Assistant: \"\"\".lstrip())\n",
    "\n",
    "generate_answer_for_calculator(\"If I have 28 cars and buy 51 more, how many cars do I have?\")"
   ]
  },
  {
   "cell_type": "markdown",
   "id": "94f05290-3f42-4b46-9af6-5447f663a166",
   "metadata": {},
   "source": [
    "## Merging Tools and Results\n",
    "\n",
    "Now that we have a result from the LLM expecting tools to be used, we can use regular expressions to replace tools with their results."
   ]
  },
  {
   "cell_type": "code",
   "execution_count": 72,
   "id": "179afbef-eab0-46c8-a6c9-c38f87d7570f",
   "metadata": {},
   "outputs": [
    {
     "data": {
      "text/plain": [
       "'28 + 51 = 79 cars.'"
      ]
     },
     "execution_count": 72,
     "metadata": {},
     "output_type": "execute_result"
    }
   ],
   "source": [
    "def replace_expressions(reply):\n",
    "    expressions = re.findall('`[ 0-9\\.+\\-/\\*]+`', reply)\n",
    "\n",
    "    for exp in expressions:\n",
    "        result = eval(exp.strip('`'))\n",
    "        reply = reply.replace(exp, str(result))\n",
    "        \n",
    "    return reply\n",
    "\n",
    "replace_expressions(reply)"
   ]
  },
  {
   "cell_type": "markdown",
   "id": "63c6fddc-25ca-4a9b-98a3-63f346084740",
   "metadata": {},
   "source": [
    "# Complete Example"
   ]
  },
  {
   "cell_type": "code",
   "execution_count": 73,
   "id": "44dd53ce-b529-4759-832f-0b06eb064859",
   "metadata": {
    "tags": []
   },
   "outputs": [
    {
     "name": "stdout",
     "output_type": "stream",
     "text": [
      "157 - 39 = 118 books.\n"
     ]
    }
   ],
   "source": [
    "question = \"I have 157 books and lose 39. How many books do I have left?\"\n",
    "\n",
    "llm_reply = generate_answer_for_calculator(question)\n",
    "\n",
    "tool_reply = replace_expressions(llm_reply)\n",
    "\n",
    "print(tool_reply)"
   ]
  }
 ],
 "metadata": {
  "kernelspec": {
   "display_name": "Python 3 (ipykernel)",
   "language": "python",
   "name": "python3"
  },
  "language_info": {
   "codemirror_mode": {
    "name": "ipython",
    "version": 3
   },
   "file_extension": ".py",
   "mimetype": "text/x-python",
   "name": "python",
   "nbconvert_exporter": "python",
   "pygments_lexer": "ipython3",
   "version": "3.8.10"
  }
 },
 "nbformat": 4,
 "nbformat_minor": 5
}
